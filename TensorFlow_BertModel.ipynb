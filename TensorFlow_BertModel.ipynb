{
 "cells": [
  {
   "cell_type": "code",
   "execution_count": 1,
   "metadata": {
    "_cell_guid": "b1076dfc-b9ad-4769-8c92-a6c4dae69d19",
    "_uuid": "8f2839f25d086af736a60e9eeb907d3b93b6e0e5",
    "execution": {
     "iopub.execute_input": "2023-04-05T04:38:03.703093Z",
     "iopub.status.busy": "2023-04-05T04:38:03.702581Z",
     "iopub.status.idle": "2023-04-05T04:38:03.789261Z",
     "shell.execute_reply": "2023-04-05T04:38:03.788232Z",
     "shell.execute_reply.started": "2023-04-05T04:38:03.703044Z"
    }
   },
   "outputs": [
    {
     "name": "stdout",
     "output_type": "stream",
     "text": [
      "/kaggle/input/bt5153-applied-machine-learning-spring-2023/sample_submission.csv\n",
      "/kaggle/input/bt5153-applied-machine-learning-spring-2023/train.csv\n",
      "/kaggle/input/bt5153-applied-machine-learning-spring-2023/test.csv\n"
     ]
    }
   ],
   "source": [
    "# This Python 3 environment comes with many helpful analytics libraries installed\n",
    "# It is defined by the kaggle/python Docker image: https://github.com/kaggle/docker-python\n",
    "# For example, here's several helpful packages to load\n",
    "\n",
    "import numpy as np # linear algebra\n",
    "import pandas as pd # data processing, CSV file I/O (e.g. pd.read_csv)\n",
    "\n",
    "# Input data files are available in the read-only \"../input/\" directory\n",
    "# For example, running this (by clicking run or pressing Shift+Enter) will list all files under the input directory\n",
    "\n",
    "import os\n",
    "for dirname, _, filenames in os.walk('/kaggle/input'):\n",
    "    for filename in filenames:\n",
    "        print(os.path.join(dirname, filename))\n",
    "\n",
    "# You can write up to 20GB to the current directory (/kaggle/working/) that gets preserved as output when you create a version using \"Save & Run All\" \n",
    "# You can also write temporary files to /kaggle/temp/, but they won't be saved outside of the current session"
   ]
  },
  {
   "cell_type": "code",
   "execution_count": 2,
   "metadata": {
    "execution": {
     "iopub.execute_input": "2023-04-05T04:38:06.689875Z",
     "iopub.status.busy": "2023-04-05T04:38:06.689483Z",
     "iopub.status.idle": "2023-04-05T04:38:45.505669Z",
     "shell.execute_reply": "2023-04-05T04:38:45.504181Z",
     "shell.execute_reply.started": "2023-04-05T04:38:06.689834Z"
    }
   },
   "outputs": [
    {
     "name": "stdout",
     "output_type": "stream",
     "text": [
      "Collecting bert-for-tf2\n",
      "  Downloading bert-for-tf2-0.14.9.tar.gz (41 kB)\n",
      "\u001b[2K     \u001b[90m━━━━━━━━━━━━━━━━━━━━━━━━━━━━━━━━━━━━━━━━\u001b[0m \u001b[32m41.2/41.2 kB\u001b[0m \u001b[31m2.1 MB/s\u001b[0m eta \u001b[36m0:00:00\u001b[0m\n",
      "\u001b[?25h  Preparing metadata (setup.py) ... \u001b[?25ldone\n",
      "\u001b[?25hCollecting py-params>=0.9.6\n",
      "  Downloading py-params-0.10.2.tar.gz (7.4 kB)\n",
      "  Preparing metadata (setup.py) ... \u001b[?25ldone\n",
      "\u001b[?25hCollecting params-flow>=0.8.0\n",
      "  Downloading params-flow-0.8.2.tar.gz (22 kB)\n",
      "  Preparing metadata (setup.py) ... \u001b[?25ldone\n",
      "\u001b[?25hRequirement already satisfied: numpy in /opt/conda/lib/python3.7/site-packages (from params-flow>=0.8.0->bert-for-tf2) (1.21.6)\n",
      "Requirement already satisfied: tqdm in /opt/conda/lib/python3.7/site-packages (from params-flow>=0.8.0->bert-for-tf2) (4.64.1)\n",
      "Building wheels for collected packages: bert-for-tf2, params-flow, py-params\n",
      "  Building wheel for bert-for-tf2 (setup.py) ... \u001b[?25ldone\n",
      "\u001b[?25h  Created wheel for bert-for-tf2: filename=bert_for_tf2-0.14.9-py3-none-any.whl size=30534 sha256=4644a34a2ee373fd35bdba499719e751376a0860ad5c876540f62322221e5c06\n",
      "  Stored in directory: /root/.cache/pip/wheels/d3/b3/5f/1ba04fd4e099213b9c9a3f5b1ac5548fa2e599cb8fc9a868cc\n",
      "  Building wheel for params-flow (setup.py) ... \u001b[?25ldone\n",
      "\u001b[?25h  Created wheel for params-flow: filename=params_flow-0.8.2-py3-none-any.whl size=19472 sha256=c274f4d35f3385e0f5b8d7b9a467a3441b15f252f0a0b9649a2af83235d0ea43\n",
      "  Stored in directory: /root/.cache/pip/wheels/91/17/7a/d8dc86bae260c349990d0c36b60685b2c4cd601866d083d471\n",
      "  Building wheel for py-params (setup.py) ... \u001b[?25ldone\n",
      "\u001b[?25h  Created wheel for py-params: filename=py_params-0.10.2-py3-none-any.whl size=7911 sha256=adee57cc664b98bef6ab5c5c90353103ccce1be09b8fadb2c6f05550f2369a65\n",
      "  Stored in directory: /root/.cache/pip/wheels/c4/94/74/551bca501c76c25b5f8512e8dc531f9a24dd221cdbbd3e6321\n",
      "Successfully built bert-for-tf2 params-flow py-params\n",
      "Installing collected packages: py-params, params-flow, bert-for-tf2\n",
      "Successfully installed bert-for-tf2-0.14.9 params-flow-0.8.2 py-params-0.10.2\n",
      "\u001b[33mWARNING: Running pip as the 'root' user can result in broken permissions and conflicting behaviour with the system package manager. It is recommended to use a virtual environment instead: https://pip.pypa.io/warnings/venv\u001b[0m\u001b[33m\n",
      "\u001b[0mRequirement already satisfied: tensorflow_hub in /opt/conda/lib/python3.7/site-packages (0.12.0)\n",
      "Requirement already satisfied: protobuf>=3.8.0 in /opt/conda/lib/python3.7/site-packages (from tensorflow_hub) (3.20.3)\n",
      "Requirement already satisfied: numpy>=1.12.0 in /opt/conda/lib/python3.7/site-packages (from tensorflow_hub) (1.21.6)\n",
      "\u001b[33mWARNING: Running pip as the 'root' user can result in broken permissions and conflicting behaviour with the system package manager. It is recommended to use a virtual environment instead: https://pip.pypa.io/warnings/venv\u001b[0m\u001b[33m\n",
      "\u001b[0mRequirement already satisfied: transformers in /opt/conda/lib/python3.7/site-packages (4.27.3)\n",
      "Requirement already satisfied: numpy>=1.17 in /opt/conda/lib/python3.7/site-packages (from transformers) (1.21.6)\n",
      "Requirement already satisfied: tqdm>=4.27 in /opt/conda/lib/python3.7/site-packages (from transformers) (4.64.1)\n",
      "Requirement already satisfied: packaging>=20.0 in /opt/conda/lib/python3.7/site-packages (from transformers) (23.0)\n",
      "Requirement already satisfied: importlib-metadata in /opt/conda/lib/python3.7/site-packages (from transformers) (4.11.4)\n",
      "Requirement already satisfied: tokenizers!=0.11.3,<0.14,>=0.11.1 in /opt/conda/lib/python3.7/site-packages (from transformers) (0.13.2)\n",
      "Requirement already satisfied: pyyaml>=5.1 in /opt/conda/lib/python3.7/site-packages (from transformers) (6.0)\n",
      "Requirement already satisfied: requests in /opt/conda/lib/python3.7/site-packages (from transformers) (2.28.2)\n",
      "Requirement already satisfied: regex!=2019.12.17 in /opt/conda/lib/python3.7/site-packages (from transformers) (2021.11.10)\n",
      "Requirement already satisfied: huggingface-hub<1.0,>=0.11.0 in /opt/conda/lib/python3.7/site-packages (from transformers) (0.13.3)\n",
      "Requirement already satisfied: filelock in /opt/conda/lib/python3.7/site-packages (from transformers) (3.9.0)\n",
      "Requirement already satisfied: typing-extensions>=3.7.4.3 in /opt/conda/lib/python3.7/site-packages (from huggingface-hub<1.0,>=0.11.0->transformers) (4.4.0)\n",
      "Requirement already satisfied: zipp>=0.5 in /opt/conda/lib/python3.7/site-packages (from importlib-metadata->transformers) (3.11.0)\n",
      "Requirement already satisfied: urllib3<1.27,>=1.21.1 in /opt/conda/lib/python3.7/site-packages (from requests->transformers) (1.26.14)\n",
      "Requirement already satisfied: charset-normalizer<4,>=2 in /opt/conda/lib/python3.7/site-packages (from requests->transformers) (2.1.1)\n",
      "Requirement already satisfied: certifi>=2017.4.17 in /opt/conda/lib/python3.7/site-packages (from requests->transformers) (2022.12.7)\n",
      "Requirement already satisfied: idna<4,>=2.5 in /opt/conda/lib/python3.7/site-packages (from requests->transformers) (3.4)\n",
      "\u001b[33mWARNING: Running pip as the 'root' user can result in broken permissions and conflicting behaviour with the system package manager. It is recommended to use a virtual environment instead: https://pip.pypa.io/warnings/venv\u001b[0m\u001b[33m\n",
      "\u001b[0m"
     ]
    }
   ],
   "source": [
    "# Install Packages\n",
    "!pip install bert-for-tf2\n",
    "!pip install tensorflow_hub\n",
    "!pip install transformers"
   ]
  },
  {
   "cell_type": "code",
   "execution_count": 3,
   "metadata": {
    "execution": {
     "iopub.execute_input": "2023-04-05T04:43:50.337051Z",
     "iopub.status.busy": "2023-04-05T04:43:50.336163Z",
     "iopub.status.idle": "2023-04-05T04:44:12.505719Z",
     "shell.execute_reply": "2023-04-05T04:44:12.504530Z",
     "shell.execute_reply.started": "2023-04-05T04:43:50.336990Z"
    }
   },
   "outputs": [
    {
     "name": "stdout",
     "output_type": "stream",
     "text": [
      "TensorFlow Version: 2.11.0\n",
      "Hub version:  0.12.0\n"
     ]
    }
   ],
   "source": [
    "# Load Libraries\n",
    "\n",
    "import numpy as np\n",
    "import pandas as pd\n",
    "import matplotlib.pyplot as plt\n",
    "import seaborn as sns\n",
    "import torch\n",
    "from transformers import BertTokenizer, BertForSequenceClassification\n",
    "from torch.utils.data import DataLoader, RandomSampler, SequentialSampler\n",
    "from keras.utils import pad_sequences\n",
    "from sklearn.model_selection import train_test_split\n",
    "import bert\n",
    "import tensorflow as tf\n",
    "import tensorflow_hub as hub\n",
    "from tensorflow.keras.utils import to_categorical\n",
    "from tensorflow.keras.models import  Model\n",
    "from tensorflow.keras.layers import Input, Dense, Dropout\n",
    "from tensorflow.keras.optimizers import Adam\n",
    "from tensorflow.keras.callbacks import ModelCheckpoint, TensorBoard\n",
    "from tqdm import tqdm\n",
    "import joblib\n",
    "\n",
    "print(\"TensorFlow Version:\",tf.__version__)\n",
    "print(\"Hub version: \",hub.__version__)\n",
    "pd.set_option('display.max_colwidth',1000)"
   ]
  },
  {
   "cell_type": "code",
   "execution_count": 4,
   "metadata": {
    "execution": {
     "iopub.execute_input": "2023-04-05T04:44:30.857285Z",
     "iopub.status.busy": "2023-04-05T04:44:30.856414Z",
     "iopub.status.idle": "2023-04-05T04:44:32.520996Z",
     "shell.execute_reply": "2023-04-05T04:44:32.519894Z",
     "shell.execute_reply.started": "2023-04-05T04:44:30.857243Z"
    }
   },
   "outputs": [],
   "source": [
    "# Import train and test dataset\n",
    "\n",
    "train_data = pd.read_csv(\"/kaggle/input/bt5153-applied-machine-learning-spring-2023/train.csv\")\n",
    "test_data = pd.read_csv(\"/kaggle/input/bt5153-applied-machine-learning-spring-2023/test.csv\")"
   ]
  },
  {
   "cell_type": "code",
   "execution_count": 5,
   "metadata": {
    "execution": {
     "iopub.execute_input": "2023-04-05T04:44:34.388020Z",
     "iopub.status.busy": "2023-04-05T04:44:34.386923Z",
     "iopub.status.idle": "2023-04-05T04:44:34.393555Z",
     "shell.execute_reply": "2023-04-05T04:44:34.392280Z",
     "shell.execute_reply.started": "2023-04-05T04:44:34.387975Z"
    }
   },
   "outputs": [],
   "source": [
    "# Create train dataset copy\n",
    "train_df = train_data"
   ]
  },
  {
   "cell_type": "code",
   "execution_count": 7,
   "metadata": {
    "execution": {
     "iopub.execute_input": "2023-04-04T10:48:06.521166Z",
     "iopub.status.busy": "2023-04-04T10:48:06.519197Z",
     "iopub.status.idle": "2023-04-04T10:48:06.588024Z",
     "shell.execute_reply": "2023-04-04T10:48:06.587015Z",
     "shell.execute_reply.started": "2023-04-04T10:48:06.521129Z"
    }
   },
   "outputs": [
    {
     "name": "stdout",
     "output_type": "stream",
     "text": [
      "First five rows in train datset:\n",
      "\n",
      "    Id  \\\n",
      "0   0   \n",
      "1   1   \n",
      "2   2   \n",
      "3   3   \n",
      "4   4   \n",
      "\n",
      "                                                                                                                                                                                                                                                                                                                                                                                                                                                                                                                                                                                                                                                                                                                                                                                                                                                                                                                                                                                                                                      Text  \\\n",
      "0                                                                                       American movies about war and Nazis simply cannot be good. They can not refrain from becoming idiot and following an agenda. All Nazis are bad, crazy, too proud, and Americans are so modest yet so capable and sensible and human. Come on, stop this bullshit. The main character says something like \"by this trial, we have to make aggressive war a crime\". Is America a peaceful nation with its world #1 $420 billion \"defense\" budget (#2 China with just $51b)? Is it simply spent in this without any... ROI? Why portray America as a peaceful nation when it isn't? I deeply dislike movies with an agenda - they throw art to hell and try to persuade us into believing something. Hollywood should put a label on movies, just as record companies have that \"parental advisory\" label. We should have a \"bullshit advisory\", \"propaganda advisory\" or a \"politically correct advisory\" label on some movies. This is one of them.   \n",
      "1  Who would have thought that a movie about a man who drives a couple hundreds of miles on his lawn mower to see his brother, could possibly be good cinema? I certainly didn't. I thought I knew what to expect: one of the most boring experiences of my life. Well I was as wrong as I haven't been wrong too often yet, because this is one of the best, most realistic and honest Hollywood films I've ever seen...<br /><br />Giving a short resume of \"The Straight Story\" isn't very difficult. It's about an old and stubborn man who steps on his lawn mower and drives off to another state to pay his brother a visit when he hears that the man has had a severe stroke. That's already special on itself, but what makes it even more special is the fact that he hasn't seen his brother in ten years because of some stupid argument. In the meantime he has his share of bad luck and problems, but he also meets a lot of people whose lives he influences in one way or another with his philosophical approach to ...   \n",
      "2  Well, as Goethe once said, there really isn't any point in trying to pass a negative judgement that aspires to be objective on \"something that has had a great effect\". \"La Maman et La Putain\" has surely passed into history as an influence on much of what's been done in France and elsewhere in the past thirty years and no one interested in the history of film, certainly, should be dissuaded from watching it. To express a purely subjective judgement, however, I feel compelled to disagree with almost every other review posted here and say to people: \"Don't watch it; it's a waste of hours of your time that will just leave you feeling rather sick and angry.\" And by that I don't mean \"sick and angry\" about \"the human condition\" or anything so general and profound as that, because that is exactly the line that most critics have adopted in their fulsome praise of the film - \"an ordeal to watch in its ruthless dissection of our emotional cowardice and cruelty\" and so on - and, if it really ...   \n",
      "3                                                                                                                                                                                                                                                                                                                                                                             Ever since I remember, I have loved airplanes and flying. I am now in college with a private pilot's license and looking to become a commercial. I could never remember why I was so obsessed with the subject until I came across my old Tail Spin tapes in my basement at home and it hit me, this was it. My parents bought every single tape they had and this was the only show I would watch as a kid. I had the theme memorized as I grew up and I can still re-cite it today. It is absolutely amazing and I plan on buying the DVD's soon! It really is great for children and adults and is absolutely timeless. I cannot get enough of this show.   \n",
      "4                                                                                                                                                       There are often badly-matched couples (in the general sense of the term) -in Huston's movies :\"African Queen\" \"Heaven knows Mister Allison\" \"roots of Heaven\" \"Misfits\" ...\"The Barbarian and the geisha\" (check the title) is another good example,so to speak.It seems that Japanese stuff was trendy at the time as such works as \"Sayonara\" \" the world of Suzie Wong\" and \"the teahouse of the August moon\" bear witness. Huston's effort might be the worst of this rather bad lot(with the exception of \"Susie \" maybe).John Wayne perfectly fits in Ford's world ,in Huston's he's like a bull in a china shop.His Japanese partner is totally bland.Even the dramatic scenes (cholera epidemic) do not save the movie from absolute boredom.<br /><br />Only those utterly enamoured of Huston's every work need to choose this ,among all his other great movies around.   \n",
      "\n",
      "   Sentiment  \n",
      "0          0  \n",
      "1          1  \n",
      "2          0  \n",
      "3          1  \n",
      "4          0  \n",
      "\n",
      "\n",
      "Total rows and columns in train dataset:\n",
      "\n",
      " (24995, 3)\n",
      "\n",
      "\n",
      "<class 'pandas.core.frame.DataFrame'>\n",
      "RangeIndex: 24995 entries, 0 to 24994\n",
      "Data columns (total 3 columns):\n",
      " #   Column     Non-Null Count  Dtype \n",
      "---  ------     --------------  ----- \n",
      " 0   Id         24995 non-null  int64 \n",
      " 1   Text       24995 non-null  object\n",
      " 2   Sentiment  24995 non-null  int64 \n",
      "dtypes: int64(2), object(1)\n",
      "memory usage: 585.9+ KB\n",
      "None\n",
      "\n",
      "\n",
      "Summary of train dataset:\n",
      "\n",
      "                  Id    Sentiment\n",
      "count  24995.000000  24995.00000\n",
      "mean   12497.000000      0.49994\n",
      "std     7215.579325      0.50001\n",
      "min        0.000000      0.00000\n",
      "25%     6248.500000      0.00000\n",
      "50%    12497.000000      0.00000\n",
      "75%    18745.500000      1.00000\n",
      "max    24994.000000      1.00000\n",
      "\n",
      "\n",
      "Null values in train dataset:\n",
      "\n",
      " Id           0\n",
      "Text         0\n",
      "Sentiment    0\n",
      "dtype: int64\n",
      "\n",
      "\n"
     ]
    }
   ],
   "source": [
    "# Print Train data info\n",
    "\n",
    "print(\"First five rows in train datset:\\n\\n\", train_data.head())\n",
    "print(\"\\n\")\n",
    "print(\"Total rows and columns in train dataset:\\n\\n\", train_data.shape)\n",
    "print(\"\\n\")\n",
    "print(train_data.info())\n",
    "print(\"\\n\")\n",
    "print(\"Summary of train dataset:\\n\\n\", train_data.describe())\n",
    "print(\"\\n\")\n",
    "print(\"Null values in train dataset:\\n\\n\", train_data.isnull().sum())\n",
    "print(\"\\n\")"
   ]
  },
  {
   "cell_type": "code",
   "execution_count": 8,
   "metadata": {
    "execution": {
     "iopub.execute_input": "2023-04-04T10:48:06.595012Z",
     "iopub.status.busy": "2023-04-04T10:48:06.592528Z",
     "iopub.status.idle": "2023-04-04T10:48:06.620314Z",
     "shell.execute_reply": "2023-04-04T10:48:06.619335Z",
     "shell.execute_reply.started": "2023-04-04T10:48:06.594960Z"
    }
   },
   "outputs": [
    {
     "name": "stdout",
     "output_type": "stream",
     "text": [
      "   Id  \\\n",
      "0   0   \n",
      "1   1   \n",
      "2   2   \n",
      "3   3   \n",
      "4   4   \n",
      "\n",
      "                                                                                                                                                                                                                                                                                                                                                                                                                                                                                                                                                                                                                                                                                                                                                                                                                                                                                                                                                                                                                                      Text  \n",
      "0  This is probably the best movie from director Hector Babenco. It shows a Brazilian reality unknown by foreigners, which is the same reality that haunts all of the Latin American countries, poverty and a survival instinct. The most affected in this reality is the children usually left orphans, or abandoned by their poor parents have to make it in a \"dog eat dog\" society many times falling into the gap of delinquency, prostitution and crime. Very well acted and with a \"no frills\" approach, this movie will get to you, Great story plot, a must have movie on anybody's collection. The starring role went to Fernando Ramos da Silva, a young boy who fell into the crime wave, killed some years later during a robbery. I would suggest people to watch the movie \"Who killed Pixote?\" so you can have a more in depth idea of the lives of these characters. Some other Characters from the movie had a similar fate, some died and others are in jail. None the less this movie will last for a long time in ...  \n",
      "1  It's particularly hard for a director to capture film-making without getting precious, inbred, over-dramatic, or all three. Breillat ably demonstrates the instinctive, lizard-brain methods of a female auteur in extracting from two \"cattle\" (as Hitchcock called actors) a love-scene of searing intimacy. Her main battle is with her leading man (\"an actor is really a woman\" she opines), although, naturally, it is the leading lady who will steal the show. I disagree that this is Breillat's first comedy. 'Romance' was at various points hilarious, but I accept that the French sense of humour can be elusive for foreigners; indeed, dozens of IMDb reviewers detected no comedy in Romance. By contrast, Sex Is Comedy raises plenty of laughs, mainly by using an actor's prop that goes back thousands of years to Plautus and the ancient Greeks. We wondered, leaving the theatre, whether Roxane's \"beard\" was a wig. A lovely performance from Anne Parillaud as Breillat wrestling with her own script, lo...  \n",
      "2                                                                                                                                                                                                                                                                                                                                                                                                                                                                                                                                                                                                          A very good movie about anti-semitism near the end of WWII. The scene that really speaks loudly of the ignorance of these people is the meeting at the church when the priest is giving his speech against the \"international money grubbers and communists\". It sounds amazingly like the speeches that Adolph Hitler used to force down his peoples' throats, yet none of the meeting attendees seem to make this comparison.  \n",
      "3  Interesting story and sympathetic treatment of racial discrimination, Son of the Gods is rather too long and contains some hammy acting, but on the whole remains a fascinating film.<br /><br />Story about a Chinese passing as White (Rchard Barthelmess) starts as Barthelmess leaves college after being insulted by a trio of brainless co-eds. He embarks on a world tour to discover himself and ends up as secretary to a British playwright (Claude King). In Monte Carlo he meets beautiful Alanna Wagner (Constance Bennett) and they fall in love. But when she discovers he is Chinese she goes berserk in a memorable scene.<br /><br />Plagued by guilt and love, Alanna goes into a mental spiral and makes a few attempts to contact Barthelmess. After his father dies he takes over the business (banking?) and dons Chinese garb as a symbol of his hatred of the White race that has spurned him. After a San Francisco detective tells him the truth about his birth, Barthelmess makes the decision to honor...  \n",
      "4                                                                                                                                                                                                                                                                                                                                                                                                                                                                                                                                                                                                                                                                                        There are films that are not released in theaters but on video. This one should be allowed to age and disintegrate the way old nitrate film stock does. No story, inept violence, over acted, badly written and the sorry thing is that the star was not the only bad part in the film. And I did like and enjoyed some of Siegel's other movies.  \n",
      "\n",
      "\n",
      "(25865, 2)\n",
      "\n",
      "\n",
      "<class 'pandas.core.frame.DataFrame'>\n",
      "RangeIndex: 25865 entries, 0 to 25864\n",
      "Data columns (total 2 columns):\n",
      " #   Column  Non-Null Count  Dtype \n",
      "---  ------  --------------  ----- \n",
      " 0   Id      25865 non-null  int64 \n",
      " 1   Text    25865 non-null  object\n",
      "dtypes: int64(1), object(1)\n",
      "memory usage: 404.3+ KB\n",
      "None\n",
      "\n",
      "\n"
     ]
    }
   ],
   "source": [
    "# Print Test data info\n",
    "\n",
    "print(test_data.head())\n",
    "print(\"\\n\")\n",
    "print(test_data.shape)\n",
    "print(\"\\n\")\n",
    "print(test_data.info())\n",
    "print(\"\\n\")"
   ]
  },
  {
   "cell_type": "code",
   "execution_count": 17,
   "metadata": {
    "execution": {
     "iopub.execute_input": "2023-04-05T06:05:13.538815Z",
     "iopub.status.busy": "2023-04-05T06:05:13.537795Z",
     "iopub.status.idle": "2023-04-05T06:05:13.850754Z",
     "shell.execute_reply": "2023-04-05T06:05:13.848532Z",
     "shell.execute_reply.started": "2023-04-05T06:05:13.538775Z"
    }
   },
   "outputs": [
    {
     "name": "stdout",
     "output_type": "stream",
     "text": [
      "0    12499\n",
      "1    12496\n",
      "Name: Sentiment, dtype: int64\n",
      "\n",
      "\n"
     ]
    },
    {
     "data": {
      "text/plain": [
       "Text(0.5, 1.0, 'Sentiment Target Distribution')"
      ]
     },
     "execution_count": 17,
     "metadata": {},
     "output_type": "execute_result"
    },
    {
     "data": {
      "image/png": "[encoded data removed]",
      "text/plain": [
       "<Figure size 640x480 with 1 Axes>"
      ]
     },
     "metadata": {},
     "output_type": "display_data"
    }
   ],
   "source": [
    "# Check the target class balance\n",
    "print(train_data['Sentiment'].value_counts()) #It's a balanced dataset\n",
    "print(\"\\n\")\n",
    "sns.countplot(x=train_data.Sentiment,width = .5)\n",
    "plt.title(\"Sentiment Target Distribution\")"
   ]
  },
  {
   "cell_type": "code",
   "execution_count": 10,
   "metadata": {
    "execution": {
     "iopub.execute_input": "2023-04-04T10:48:06.927417Z",
     "iopub.status.busy": "2023-04-04T10:48:06.925117Z",
     "iopub.status.idle": "2023-04-04T10:48:07.159350Z",
     "shell.execute_reply": "2023-04-04T10:48:07.158374Z",
     "shell.execute_reply.started": "2023-04-04T10:48:06.927376Z"
    }
   },
   "outputs": [
    {
     "name": "stdout",
     "output_type": "stream",
     "text": [
      "Count of Unique Texts in Train Data: 24899\n",
      "(24995, 3)\n",
      "Count of Unique Texts in Test Data: 25666\n",
      "(25865, 2)\n"
     ]
    }
   ],
   "source": [
    "# Check Unique 'Text' values in both train and test dataset\n",
    "print(\"Count of Unique Texts in Train Data:\",train_data['Text'].nunique())\n",
    "print(train_data.shape)\n",
    "\n",
    "print(\"Count of Unique Texts in Test Data:\",test_data['Text'].nunique())\n",
    "print(test_data.shape)\n",
    "\n",
    "## Both train and test dataset have duplicate texts"
   ]
  },
  {
   "cell_type": "code",
   "execution_count": 11,
   "metadata": {
    "execution": {
     "iopub.execute_input": "2023-04-04T10:48:07.166036Z",
     "iopub.status.busy": "2023-04-04T10:48:07.163528Z",
     "iopub.status.idle": "2023-04-04T10:48:07.176362Z",
     "shell.execute_reply": "2023-04-04T10:48:07.175321Z",
     "shell.execute_reply.started": "2023-04-04T10:48:07.165995Z"
    }
   },
   "outputs": [
    {
     "data": {
      "text/plain": [
       "'American movies about war and Nazis simply cannot be good. They can not refrain from becoming idiot and following an agenda. All Nazis are bad, crazy, too proud, and Americans are so modest yet so capable and sensible and human. Come on, stop this bullshit. The main character says something like \"by this trial, we have to make aggressive war a crime\". Is America a peaceful nation with its world #1 $420 billion \"defense\" budget (#2 China with just $51b)? Is it simply spent in this without any... ROI? Why portray America as a peaceful nation when it isn\\'t? I deeply dislike movies with an agenda - they throw art to hell and try to persuade us into believing something. Hollywood should put a label on movies, just as record companies have that \"parental advisory\" label. We should have a \"bullshit advisory\", \"propaganda advisory\" or a \"politically correct advisory\" label on some movies. This is one of them.'"
      ]
     },
     "execution_count": 11,
     "metadata": {},
     "output_type": "execute_result"
    }
   ],
   "source": [
    "# Check the first text in train data\n",
    "train_data['Text'][0]"
   ]
  },
  {
   "cell_type": "code",
   "execution_count": 6,
   "metadata": {
    "execution": {
     "iopub.execute_input": "2023-04-05T04:44:50.248188Z",
     "iopub.status.busy": "2023-04-05T04:44:50.247542Z",
     "iopub.status.idle": "2023-04-05T04:44:50.294391Z",
     "shell.execute_reply": "2023-04-05T04:44:50.293384Z",
     "shell.execute_reply.started": "2023-04-05T04:44:50.248146Z"
    }
   },
   "outputs": [
    {
     "data": {
      "text/html": [
       "<div>\n",
       "<style scoped>\n",
       "    .dataframe tbody tr th:only-of-type {\n",
       "        vertical-align: middle;\n",
       "    }\n",
       "\n",
       "    .dataframe tbody tr th {\n",
       "        vertical-align: top;\n",
       "    }\n",
       "\n",
       "    .dataframe thead th {\n",
       "        text-align: right;\n",
       "    }\n",
       "</style>\n",
       "<table border=\"1\" class=\"dataframe\">\n",
       "  <thead>\n",
       "    <tr style=\"text-align: right;\">\n",
       "      <th></th>\n",
       "      <th>Text</th>\n",
       "      <th>Sentiment</th>\n",
       "    </tr>\n",
       "    <tr>\n",
       "      <th>Id</th>\n",
       "      <th></th>\n",
       "      <th></th>\n",
       "    </tr>\n",
       "  </thead>\n",
       "  <tbody>\n",
       "    <tr>\n",
       "      <th>0</th>\n",
       "      <td>American movies about war and Nazis simply cannot be good. They can not refrain from becoming idiot and following an agenda. All Nazis are bad, crazy, too proud, and Americans are so modest yet so capable and sensible and human. Come on, stop this bullshit. The main character says something like \"by this trial, we have to make aggressive war a crime\". Is America a peaceful nation with its world #1 $420 billion \"defense\" budget (#2 China with just $51b)? Is it simply spent in this without any... ROI? Why portray America as a peaceful nation when it isn't? I deeply dislike movies with an agenda - they throw art to hell and try to persuade us into believing something. Hollywood should put a label on movies, just as record companies have that \"parental advisory\" label. We should have a \"bullshit advisory\", \"propaganda advisory\" or a \"politically correct advisory\" label on some movies. This is one of them.</td>\n",
       "      <td>0</td>\n",
       "    </tr>\n",
       "    <tr>\n",
       "      <th>1</th>\n",
       "      <td>Who would have thought that a movie about a man who drives a couple hundreds of miles on his lawn mower to see his brother, could possibly be good cinema? I certainly didn't. I thought I knew what to expect: one of the most boring experiences of my life. Well I was as wrong as I haven't been wrong too often yet, because this is one of the best, most realistic and honest Hollywood films I've ever seen...&lt;br /&gt;&lt;br /&gt;Giving a short resume of \"The Straight Story\" isn't very difficult. It's about an old and stubborn man who steps on his lawn mower and drives off to another state to pay his brother a visit when he hears that the man has had a severe stroke. That's already special on itself, but what makes it even more special is the fact that he hasn't seen his brother in ten years because of some stupid argument. In the meantime he has his share of bad luck and problems, but he also meets a lot of people whose lives he influences in one way or another with his philosophical approach to ...</td>\n",
       "      <td>1</td>\n",
       "    </tr>\n",
       "  </tbody>\n",
       "</table>\n",
       "</div>"
      ],
      "text/plain": [
       "                                                                                                                                                                                                                                                                                                                                                                                                                                                                                                                                                                                                                                                                                                                                                                                                                                                                                                                                                                                                                                       Text  \\\n",
       "Id                                                                                                                                                                                                                                                                                                                                                                                                                                                                                                                                                                                                                                                                                                                                                                                                                                                                                                                                                                                                                                            \n",
       "0                                                                                        American movies about war and Nazis simply cannot be good. They can not refrain from becoming idiot and following an agenda. All Nazis are bad, crazy, too proud, and Americans are so modest yet so capable and sensible and human. Come on, stop this bullshit. The main character says something like \"by this trial, we have to make aggressive war a crime\". Is America a peaceful nation with its world #1 $420 billion \"defense\" budget (#2 China with just $51b)? Is it simply spent in this without any... ROI? Why portray America as a peaceful nation when it isn't? I deeply dislike movies with an agenda - they throw art to hell and try to persuade us into believing something. Hollywood should put a label on movies, just as record companies have that \"parental advisory\" label. We should have a \"bullshit advisory\", \"propaganda advisory\" or a \"politically correct advisory\" label on some movies. This is one of them.   \n",
       "1   Who would have thought that a movie about a man who drives a couple hundreds of miles on his lawn mower to see his brother, could possibly be good cinema? I certainly didn't. I thought I knew what to expect: one of the most boring experiences of my life. Well I was as wrong as I haven't been wrong too often yet, because this is one of the best, most realistic and honest Hollywood films I've ever seen...<br /><br />Giving a short resume of \"The Straight Story\" isn't very difficult. It's about an old and stubborn man who steps on his lawn mower and drives off to another state to pay his brother a visit when he hears that the man has had a severe stroke. That's already special on itself, but what makes it even more special is the fact that he hasn't seen his brother in ten years because of some stupid argument. In the meantime he has his share of bad luck and problems, but he also meets a lot of people whose lives he influences in one way or another with his philosophical approach to ...   \n",
       "\n",
       "    Sentiment  \n",
       "Id             \n",
       "0           0  \n",
       "1           1  "
      ]
     },
     "execution_count": 6,
     "metadata": {},
     "output_type": "execute_result"
    }
   ],
   "source": [
    "# Set \"Id\" column as index in train data\n",
    "train_data = train_data.set_index('Id')\n",
    "train_data.head(2)"
   ]
  },
  {
   "cell_type": "code",
   "execution_count": 13,
   "metadata": {
    "execution": {
     "iopub.execute_input": "2023-04-04T10:48:07.209191Z",
     "iopub.status.busy": "2023-04-04T10:48:07.206784Z",
     "iopub.status.idle": "2023-04-04T10:48:07.218653Z",
     "shell.execute_reply": "2023-04-04T10:48:07.214015Z",
     "shell.execute_reply.started": "2023-04-04T10:48:07.209153Z"
    }
   },
   "outputs": [],
   "source": [
    "# Perform drop duplicate on train data to get unique data\n",
    "# train_data = train_data.drop_duplicates()\n",
    "# print(\"Updated Train Data:\", train_data.shape)\n",
    "# print(\"Original Train Data:\", train_df.shape)"
   ]
  },
  {
   "cell_type": "code",
   "execution_count": 7,
   "metadata": {
    "execution": {
     "iopub.execute_input": "2023-04-05T04:44:59.430892Z",
     "iopub.status.busy": "2023-04-05T04:44:59.430113Z",
     "iopub.status.idle": "2023-04-05T04:44:59.456782Z",
     "shell.execute_reply": "2023-04-05T04:44:59.455689Z",
     "shell.execute_reply.started": "2023-04-05T04:44:59.430850Z"
    }
   },
   "outputs": [
    {
     "name": "stdout",
     "output_type": "stream",
     "text": [
      "                                                                                                                                                                                                                                                                                                                                                                                                                                                                                                                                                                                                                                                                                                                                                                                                                                                                                                                                                                                                                                       Text  \\\n",
      "Id                                                                                                                                                                                                                                                                                                                                                                                                                                                                                                                                                                                                                                                                                                                                                                                                                                                                                                                                                                                                                                            \n",
      "0                                                                                        American movies about war and Nazis simply cannot be good. They can not refrain from becoming idiot and following an agenda. All Nazis are bad, crazy, too proud, and Americans are so modest yet so capable and sensible and human. Come on, stop this bullshit. The main character says something like \"by this trial, we have to make aggressive war a crime\". Is America a peaceful nation with its world #1 $420 billion \"defense\" budget (#2 China with just $51b)? Is it simply spent in this without any... ROI? Why portray America as a peaceful nation when it isn't? I deeply dislike movies with an agenda - they throw art to hell and try to persuade us into believing something. Hollywood should put a label on movies, just as record companies have that \"parental advisory\" label. We should have a \"bullshit advisory\", \"propaganda advisory\" or a \"politically correct advisory\" label on some movies. This is one of them.   \n",
      "1   Who would have thought that a movie about a man who drives a couple hundreds of miles on his lawn mower to see his brother, could possibly be good cinema? I certainly didn't. I thought I knew what to expect: one of the most boring experiences of my life. Well I was as wrong as I haven't been wrong too often yet, because this is one of the best, most realistic and honest Hollywood films I've ever seen...<br /><br />Giving a short resume of \"The Straight Story\" isn't very difficult. It's about an old and stubborn man who steps on his lawn mower and drives off to another state to pay his brother a visit when he hears that the man has had a severe stroke. That's already special on itself, but what makes it even more special is the fact that he hasn't seen his brother in ten years because of some stupid argument. In the meantime he has his share of bad luck and problems, but he also meets a lot of people whose lives he influences in one way or another with his philosophical approach to ...   \n",
      "2   Well, as Goethe once said, there really isn't any point in trying to pass a negative judgement that aspires to be objective on \"something that has had a great effect\". \"La Maman et La Putain\" has surely passed into history as an influence on much of what's been done in France and elsewhere in the past thirty years and no one interested in the history of film, certainly, should be dissuaded from watching it. To express a purely subjective judgement, however, I feel compelled to disagree with almost every other review posted here and say to people: \"Don't watch it; it's a waste of hours of your time that will just leave you feeling rather sick and angry.\" And by that I don't mean \"sick and angry\" about \"the human condition\" or anything so general and profound as that, because that is exactly the line that most critics have adopted in their fulsome praise of the film - \"an ordeal to watch in its ruthless dissection of our emotional cowardice and cruelty\" and so on - and, if it really ...   \n",
      "3                                                                                                                                                                                                                                                                                                                                                                              Ever since I remember, I have loved airplanes and flying. I am now in college with a private pilot's license and looking to become a commercial. I could never remember why I was so obsessed with the subject until I came across my old Tail Spin tapes in my basement at home and it hit me, this was it. My parents bought every single tape they had and this was the only show I would watch as a kid. I had the theme memorized as I grew up and I can still re-cite it today. It is absolutely amazing and I plan on buying the DVD's soon! It really is great for children and adults and is absolutely timeless. I cannot get enough of this show.   \n",
      "4                                                                                                                                                        There are often badly-matched couples (in the general sense of the term) -in Huston's movies :\"African Queen\" \"Heaven knows Mister Allison\" \"roots of Heaven\" \"Misfits\" ...\"The Barbarian and the geisha\" (check the title) is another good example,so to speak.It seems that Japanese stuff was trendy at the time as such works as \"Sayonara\" \" the world of Suzie Wong\" and \"the teahouse of the August moon\" bear witness. Huston's effort might be the worst of this rather bad lot(with the exception of \"Susie \" maybe).John Wayne perfectly fits in Ford's world ,in Huston's he's like a bull in a china shop.His Japanese partner is totally bland.Even the dramatic scenes (cholera epidemic) do not save the movie from absolute boredom.<br /><br />Only those utterly enamoured of Huston's every work need to choose this ,among all his other great movies around.   \n",
      "\n",
      "    Sentiment sentiment  \n",
      "Id                       \n",
      "0           0  Negative  \n",
      "1           1  Positive  \n",
      "2           0  Negative  \n",
      "3           1  Positive  \n",
      "4           0  Negative  \n",
      "\n",
      "\n",
      "0    12499\n",
      "1    12496\n",
      "Name: Sentiment, dtype: int64\n",
      "Negative    12499\n",
      "Positive    12496\n",
      "Name: sentiment, dtype: int64\n"
     ]
    }
   ],
   "source": [
    "# Create new \"sentiment\" column. 0 = Negative and 1 = positive\n",
    "def label_change(x):\n",
    "    if x == 0:\n",
    "        return \"Negative\"\n",
    "    if x == 1:\n",
    "        return \"Positive\"\n",
    "    \n",
    "train_data['sentiment'] = train_data['Sentiment'].apply(lambda x: label_change(x))\n",
    "print(train_data.head())\n",
    "print(\"\\n\")\n",
    "\n",
    "print(train_data['Sentiment'].value_counts())\n",
    "print(train_data['sentiment'].value_counts())"
   ]
  },
  {
   "cell_type": "code",
   "execution_count": 8,
   "metadata": {
    "execution": {
     "iopub.execute_input": "2023-04-05T04:45:03.914086Z",
     "iopub.status.busy": "2023-04-05T04:45:03.913641Z",
     "iopub.status.idle": "2023-04-05T04:45:03.926606Z",
     "shell.execute_reply": "2023-04-05T04:45:03.925281Z",
     "shell.execute_reply.started": "2023-04-05T04:45:03.914040Z"
    }
   },
   "outputs": [
    {
     "data": {
      "text/html": [
       "<div>\n",
       "<style scoped>\n",
       "    .dataframe tbody tr th:only-of-type {\n",
       "        vertical-align: middle;\n",
       "    }\n",
       "\n",
       "    .dataframe tbody tr th {\n",
       "        vertical-align: top;\n",
       "    }\n",
       "\n",
       "    .dataframe thead th {\n",
       "        text-align: right;\n",
       "    }\n",
       "</style>\n",
       "<table border=\"1\" class=\"dataframe\">\n",
       "  <thead>\n",
       "    <tr style=\"text-align: right;\">\n",
       "      <th></th>\n",
       "      <th>Text</th>\n",
       "      <th>Sentiment</th>\n",
       "      <th>sentiment</th>\n",
       "    </tr>\n",
       "    <tr>\n",
       "      <th>Id</th>\n",
       "      <th></th>\n",
       "      <th></th>\n",
       "      <th></th>\n",
       "    </tr>\n",
       "  </thead>\n",
       "  <tbody>\n",
       "    <tr>\n",
       "      <th>0</th>\n",
       "      <td>American movies about war and Nazis simply cannot be good. They can not refrain from becoming idiot and following an agenda. All Nazis are bad, crazy, too proud, and Americans are so modest yet so capable and sensible and human. Come on, stop this bullshit. The main character says something like \"by this trial, we have to make aggressive war a crime\". Is America a peaceful nation with its world #1 $420 billion \"defense\" budget (#2 China with just $51b)? Is it simply spent in this without any... ROI? Why portray America as a peaceful nation when it isn't? I deeply dislike movies with an agenda - they throw art to hell and try to persuade us into believing something. Hollywood should put a label on movies, just as record companies have that \"parental advisory\" label. We should have a \"bullshit advisory\", \"propaganda advisory\" or a \"politically correct advisory\" label on some movies. This is one of them.</td>\n",
       "      <td>0</td>\n",
       "      <td>Negative</td>\n",
       "    </tr>\n",
       "    <tr>\n",
       "      <th>1</th>\n",
       "      <td>Who would have thought that a movie about a man who drives a couple hundreds of miles on his lawn mower to see his brother, could possibly be good cinema? I certainly didn't. I thought I knew what to expect: one of the most boring experiences of my life. Well I was as wrong as I haven't been wrong too often yet, because this is one of the best, most realistic and honest Hollywood films I've ever seen...&lt;br /&gt;&lt;br /&gt;Giving a short resume of \"The Straight Story\" isn't very difficult. It's about an old and stubborn man who steps on his lawn mower and drives off to another state to pay his brother a visit when he hears that the man has had a severe stroke. That's already special on itself, but what makes it even more special is the fact that he hasn't seen his brother in ten years because of some stupid argument. In the meantime he has his share of bad luck and problems, but he also meets a lot of people whose lives he influences in one way or another with his philosophical approach to ...</td>\n",
       "      <td>1</td>\n",
       "      <td>Positive</td>\n",
       "    </tr>\n",
       "  </tbody>\n",
       "</table>\n",
       "</div>"
      ],
      "text/plain": [
       "                                                                                                                                                                                                                                                                                                                                                                                                                                                                                                                                                                                                                                                                                                                                                                                                                                                                                                                                                                                                                                       Text  \\\n",
       "Id                                                                                                                                                                                                                                                                                                                                                                                                                                                                                                                                                                                                                                                                                                                                                                                                                                                                                                                                                                                                                                            \n",
       "0                                                                                        American movies about war and Nazis simply cannot be good. They can not refrain from becoming idiot and following an agenda. All Nazis are bad, crazy, too proud, and Americans are so modest yet so capable and sensible and human. Come on, stop this bullshit. The main character says something like \"by this trial, we have to make aggressive war a crime\". Is America a peaceful nation with its world #1 $420 billion \"defense\" budget (#2 China with just $51b)? Is it simply spent in this without any... ROI? Why portray America as a peaceful nation when it isn't? I deeply dislike movies with an agenda - they throw art to hell and try to persuade us into believing something. Hollywood should put a label on movies, just as record companies have that \"parental advisory\" label. We should have a \"bullshit advisory\", \"propaganda advisory\" or a \"politically correct advisory\" label on some movies. This is one of them.   \n",
       "1   Who would have thought that a movie about a man who drives a couple hundreds of miles on his lawn mower to see his brother, could possibly be good cinema? I certainly didn't. I thought I knew what to expect: one of the most boring experiences of my life. Well I was as wrong as I haven't been wrong too often yet, because this is one of the best, most realistic and honest Hollywood films I've ever seen...<br /><br />Giving a short resume of \"The Straight Story\" isn't very difficult. It's about an old and stubborn man who steps on his lawn mower and drives off to another state to pay his brother a visit when he hears that the man has had a severe stroke. That's already special on itself, but what makes it even more special is the fact that he hasn't seen his brother in ten years because of some stupid argument. In the meantime he has his share of bad luck and problems, but he also meets a lot of people whose lives he influences in one way or another with his philosophical approach to ...   \n",
       "\n",
       "    Sentiment sentiment  \n",
       "Id                       \n",
       "0           0  Negative  \n",
       "1           1  Positive  "
      ]
     },
     "execution_count": 8,
     "metadata": {},
     "output_type": "execute_result"
    }
   ],
   "source": [
    "# Create copy of original train dataset\n",
    "\n",
    "training_data = train_data\n",
    "training_data.head(2)"
   ]
  },
  {
   "cell_type": "code",
   "execution_count": null,
   "metadata": {},
   "outputs": [],
   "source": [
    "### Initial Data Pre-processing and visualization\n",
    "\n",
    "##Note: couldn't run texthero package on kaggle notebook or jupyter so ran separately on google colab for visualization and preprocessing for baseline model.\n",
    "\n",
    "# Install Packages\n",
    "\n",
    "#!pip install texthero\n",
    "#!pip install -U spacy\n",
    "\n",
    "#import texthero as hero\n",
    "\n",
    "#create custom pipeline for cleaning \"Text\" feature (Data pre-processing)\n",
    "#custom_pipeline = [hero.preprocessing.fillna,\n",
    "#                   hero.preprocessing.lowercase,\n",
    "#                   hero.preprocessing.remove_whitespace,\n",
    "#                   hero.preprocessing.remove_urls,\n",
    "#                   hero.preprocessing.remove_diacritics,\n",
    "#                   hero.preprocessing.remove_digits,\n",
    "#                   hero.preprocessing.remove_punctuation,\n",
    "#                   hero.preprocessing.remove_stopwords,\n",
    "#                   hero.preprocessing.remove_round_brackets,\n",
    "#                   hero.preprocessing.remove_html_tags,\n",
    "#                   hero.preprocessing.remove_curly_brackets,\n",
    "#                   hero.preprocessing.remove_brackets,\n",
    "#                   ]\n",
    "\n",
    "\n",
    "#train_data['Clean_Text'] = train_data['Text'].pipe(hero.clean, custom_pipeline)\n",
    "\n",
    "#print(train_data[['Text', 'Clean_Text']].head())\n",
    "\n",
    "## Data Visualization using texthero package\n",
    "\n",
    "#NUM_TOP_WORDS = 20\n",
    "#top_20 = hero.visualization.top_words(train_data.loc[:, 'Clean_Text']).head(NUM_TOP_WORDS)\n",
    "#top_20.plot.bar(rot=90, title=\"Top 20 words in text\");\n",
    "#plt.show(block=True);\n",
    "\n",
    "#Plot wordcloud image using WordCloud method\n",
    "\n",
    "#hero.wordcloud(train_data.loc[:, 'Clean_Text'], max_words=100)\n",
    "\n",
    "#scatterplot\n",
    "\n",
    "#hero.scatterplot(train_data, 'Clean_Text')"
   ]
  },
  {
   "cell_type": "markdown",
   "metadata": {},
   "source": [
    "# Pre-Trained Bert Model"
   ]
  },
  {
   "cell_type": "code",
   "execution_count": 16,
   "metadata": {
    "execution": {
     "iopub.execute_input": "2023-04-04T10:48:07.281550Z",
     "iopub.status.busy": "2023-04-04T10:48:07.281020Z",
     "iopub.status.idle": "2023-04-04T10:48:13.270895Z",
     "shell.execute_reply": "2023-04-04T10:48:13.269897Z",
     "shell.execute_reply.started": "2023-04-04T10:48:07.281517Z"
    }
   },
   "outputs": [
    {
     "data": {
      "application/vnd.jupyter.widget-view+json": {
       "model_id": "344f447b7c384cb684acae73ca20e336",
       "version_major": 2,
       "version_minor": 0
      },
      "text/plain": [
       "Downloading (…)solve/main/vocab.txt:   0%|          | 0.00/232k [00:00<?, ?B/s]"
      ]
     },
     "metadata": {},
     "output_type": "display_data"
    },
    {
     "data": {
      "application/vnd.jupyter.widget-view+json": {
       "model_id": "d62264ff5025458ebd7ef2798d9b6155",
       "version_major": 2,
       "version_minor": 0
      },
      "text/plain": [
       "Downloading (…)okenizer_config.json:   0%|          | 0.00/28.0 [00:00<?, ?B/s]"
      ]
     },
     "metadata": {},
     "output_type": "display_data"
    },
    {
     "data": {
      "application/vnd.jupyter.widget-view+json": {
       "model_id": "4558fba9b02a48d2965bae557236f0f4",
       "version_major": 2,
       "version_minor": 0
      },
      "text/plain": [
       "Downloading (…)lve/main/config.json:   0%|          | 0.00/570 [00:00<?, ?B/s]"
      ]
     },
     "metadata": {},
     "output_type": "display_data"
    },
    {
     "data": {
      "application/vnd.jupyter.widget-view+json": {
       "model_id": "79ab7bc30d884536bc59ee1a35e2bce3",
       "version_major": 2,
       "version_minor": 0
      },
      "text/plain": [
       "Downloading pytorch_model.bin:   0%|          | 0.00/440M [00:00<?, ?B/s]"
      ]
     },
     "metadata": {},
     "output_type": "display_data"
    },
    {
     "name": "stderr",
     "output_type": "stream",
     "text": [
      "Some weights of the model checkpoint at bert-base-uncased were not used when initializing BertForSequenceClassification: ['cls.seq_relationship.bias', 'cls.predictions.decoder.weight', 'cls.predictions.transform.LayerNorm.weight', 'cls.predictions.transform.dense.bias', 'cls.predictions.transform.LayerNorm.bias', 'cls.predictions.transform.dense.weight', 'cls.predictions.bias', 'cls.seq_relationship.weight']\n",
      "- This IS expected if you are initializing BertForSequenceClassification from the checkpoint of a model trained on another task or with another architecture (e.g. initializing a BertForSequenceClassification model from a BertForPreTraining model).\n",
      "- This IS NOT expected if you are initializing BertForSequenceClassification from the checkpoint of a model that you expect to be exactly identical (initializing a BertForSequenceClassification model from a BertForSequenceClassification model).\n",
      "Some weights of BertForSequenceClassification were not initialized from the model checkpoint at bert-base-uncased and are newly initialized: ['classifier.weight', 'classifier.bias']\n",
      "You should probably TRAIN this model on a down-stream task to be able to use it for predictions and inference.\n"
     ]
    }
   ],
   "source": [
    "# Split the train dataset into train and val sets\n",
    "train_text, val_text, train_labels, val_labels = train_test_split(training_data['Text'].tolist(), training_data['Sentiment'].tolist(), test_size=0.2)\n",
    "\n",
    "# Load the BERT tokenizer and model\n",
    "tokenizer = BertTokenizer.from_pretrained('bert-base-uncased')\n",
    "bert_model = BertForSequenceClassification.from_pretrained('bert-base-uncased', num_labels=2)"
   ]
  },
  {
   "cell_type": "code",
   "execution_count": 18,
   "metadata": {
    "execution": {
     "iopub.execute_input": "2023-04-04T10:51:02.818126Z",
     "iopub.status.busy": "2023-04-04T10:51:02.817514Z",
     "iopub.status.idle": "2023-04-04T10:51:07.925678Z",
     "shell.execute_reply": "2023-04-04T10:51:07.924597Z",
     "shell.execute_reply.started": "2023-04-04T10:51:02.818084Z"
    }
   },
   "outputs": [],
   "source": [
    "# Set the device to run on (GPU if available)\n",
    "device = torch.device(\"cuda\" if torch.cuda.is_available() else \"cpu\")\n",
    "bert_model.to(device)\n",
    "\n",
    "# Define the optimizer and loss function\n",
    "optimizer = torch.optim.AdamW(bert_model.parameters(), lr=2e-5, eps=1e-8)\n",
    "loss_fn = torch.nn.CrossEntropyLoss()"
   ]
  },
  {
   "cell_type": "code",
   "execution_count": 23,
   "metadata": {
    "execution": {
     "iopub.execute_input": "2023-04-04T11:23:04.989147Z",
     "iopub.status.busy": "2023-04-04T11:23:04.988767Z",
     "iopub.status.idle": "2023-04-04T11:59:36.366405Z",
     "shell.execute_reply": "2023-04-04T11:59:36.365137Z",
     "shell.execute_reply.started": "2023-04-04T11:23:04.989114Z"
    }
   },
   "outputs": [
    {
     "name": "stdout",
     "output_type": "stream",
     "text": [
      "Epoch 1 Training Loss: 0.05551917783115059\n",
      "Epoch 2 Training Loss: 0.03295207256646827\n",
      "Epoch 3 Training Loss: 0.02582244212254882\n",
      "Epoch 4 Training Loss: 0.023353471219725908\n",
      "Epoch 5 Training Loss: 0.01677091434597969\n"
     ]
    }
   ],
   "source": [
    "# Train the model\n",
    "num_epochs = 5\n",
    "for epoch in range(num_epochs):\n",
    "    bert_model.train()\n",
    "    train_loss = 0.0\n",
    "    for batch in train_dataloader:\n",
    "        input_ids = batch[0].to(device)\n",
    "        attention_mask = batch[1].to(device)\n",
    "        labels = batch[2].to(device)\n",
    "\n",
    "        optimizer.zero_grad()\n",
    "\n",
    "        outputs = bert_model(input_ids, attention_mask=attention_mask, labels=labels)\n",
    "        loss = outputs.loss\n",
    "        logits = outputs.logits\n",
    "\n",
    "        loss.backward()\n",
    "        optimizer.step()\n",
    "\n",
    "        train_loss += loss.item()\n",
    "\n",
    "    print(f\"Epoch {epoch+1} Training Loss: {train_loss/len(train_dataloader)}\")"
   ]
  },
  {
   "cell_type": "code",
   "execution_count": 24,
   "metadata": {
    "execution": {
     "iopub.execute_input": "2023-04-04T12:00:24.082117Z",
     "iopub.status.busy": "2023-04-04T12:00:24.081157Z",
     "iopub.status.idle": "2023-04-04T12:00:25.444840Z",
     "shell.execute_reply": "2023-04-04T12:00:25.443697Z",
     "shell.execute_reply.started": "2023-04-04T12:00:24.082065Z"
    }
   },
   "outputs": [
    {
     "data": {
      "text/plain": [
       "['bert_model.pkl']"
      ]
     },
     "execution_count": 24,
     "metadata": {},
     "output_type": "execute_result"
    }
   ],
   "source": [
    "# Assume \"model\" is a trained Scikit-learn model\n",
    "joblib.dump(bert_model, 'bert_model.pkl')"
   ]
  },
  {
   "cell_type": "code",
   "execution_count": 30,
   "metadata": {
    "execution": {
     "iopub.execute_input": "2023-04-04T12:10:02.800305Z",
     "iopub.status.busy": "2023-04-04T12:10:02.799275Z",
     "iopub.status.idle": "2023-04-04T12:10:35.909054Z",
     "shell.execute_reply": "2023-04-04T12:10:35.907975Z",
     "shell.execute_reply.started": "2023-04-04T12:10:02.800264Z"
    }
   },
   "outputs": [],
   "source": [
    "# Evaluate the model on the val set\n",
    "bert_model.eval()\n",
    "with torch.no_grad():\n",
    "    val_loss = 0.0\n",
    "    val_correct = 0\n",
    "    predictions = []\n",
    "    for batch in val_dataloader:\n",
    "        input_ids = batch[0].to(device)\n",
    "        attention_mask = batch[1].to(device)\n",
    "        labels = batch[2].to(device)\n",
    "\n",
    "        outputs = bert_model(input_ids, attention_mask=attention_mask, labels=labels)\n",
    "        loss = outputs.loss\n",
    "        logits = outputs.logits\n",
    "        \n",
    "        probs = torch.nn.functional.softmax(logits, dim=-1)\n",
    "        preds = torch.argmax(probs, dim=-1)\n",
    "        predictions.extend(preds.cpu().numpy())"
   ]
  },
  {
   "cell_type": "code",
   "execution_count": 33,
   "metadata": {
    "execution": {
     "iopub.execute_input": "2023-04-04T12:13:26.282556Z",
     "iopub.status.busy": "2023-04-04T12:13:26.281842Z",
     "iopub.status.idle": "2023-04-04T12:13:26.305102Z",
     "shell.execute_reply": "2023-04-04T12:13:26.303821Z",
     "shell.execute_reply.started": "2023-04-04T12:13:26.282517Z"
    }
   },
   "outputs": [
    {
     "name": "stdout",
     "output_type": "stream",
     "text": [
      "              precision    recall  f1-score   support\n",
      "\n",
      "           0       0.90      0.86      0.88      2541\n",
      "           1       0.86      0.90      0.88      2458\n",
      "\n",
      "    accuracy                           0.88      4999\n",
      "   macro avg       0.88      0.88      0.88      4999\n",
      "weighted avg       0.88      0.88      0.88      4999\n",
      "\n"
     ]
    }
   ],
   "source": [
    "from sklearn.metrics import classification_report\n",
    "\n",
    "# Generate the classification report\n",
    "report = classification_report(val_labels, predictions)\n",
    "print(report)"
   ]
  },
  {
   "cell_type": "code",
   "execution_count": 34,
   "metadata": {
    "execution": {
     "iopub.execute_input": "2023-04-04T12:14:46.515401Z",
     "iopub.status.busy": "2023-04-04T12:14:46.514483Z",
     "iopub.status.idle": "2023-04-04T12:20:34.195994Z",
     "shell.execute_reply": "2023-04-04T12:20:34.194868Z",
     "shell.execute_reply.started": "2023-04-04T12:14:46.515361Z"
    }
   },
   "outputs": [
    {
     "data": {
      "text/html": [
       "<div>\n",
       "<style scoped>\n",
       "    .dataframe tbody tr th:only-of-type {\n",
       "        vertical-align: middle;\n",
       "    }\n",
       "\n",
       "    .dataframe tbody tr th {\n",
       "        vertical-align: top;\n",
       "    }\n",
       "\n",
       "    .dataframe thead th {\n",
       "        text-align: right;\n",
       "    }\n",
       "</style>\n",
       "<table border=\"1\" class=\"dataframe\">\n",
       "  <thead>\n",
       "    <tr style=\"text-align: right;\">\n",
       "      <th></th>\n",
       "      <th>Id</th>\n",
       "      <th>Text</th>\n",
       "      <th>Sentiment</th>\n",
       "    </tr>\n",
       "  </thead>\n",
       "  <tbody>\n",
       "    <tr>\n",
       "      <th>0</th>\n",
       "      <td>0</td>\n",
       "      <td>This is probably the best movie from director Hector Babenco. It shows a Brazilian reality unknown by foreigners, which is the same reality that haunts all of the Latin American countries, poverty and a survival instinct. The most affected in this reality is the children usually left orphans, or abandoned by their poor parents have to make it in a \"dog eat dog\" society many times falling into the gap of delinquency, prostitution and crime. Very well acted and with a \"no frills\" approach, this movie will get to you, Great story plot, a must have movie on anybody's collection. The starring role went to Fernando Ramos da Silva, a young boy who fell into the crime wave, killed some years later during a robbery. I would suggest people to watch the movie \"Who killed Pixote?\" so you can have a more in depth idea of the lives of these characters. Some other Characters from the movie had a similar fate, some died and others are in jail. None the less this movie will last for a long time in ...</td>\n",
       "      <td>1</td>\n",
       "    </tr>\n",
       "    <tr>\n",
       "      <th>1</th>\n",
       "      <td>1</td>\n",
       "      <td>It's particularly hard for a director to capture film-making without getting precious, inbred, over-dramatic, or all three. Breillat ably demonstrates the instinctive, lizard-brain methods of a female auteur in extracting from two \"cattle\" (as Hitchcock called actors) a love-scene of searing intimacy. Her main battle is with her leading man (\"an actor is really a woman\" she opines), although, naturally, it is the leading lady who will steal the show. I disagree that this is Breillat's first comedy. 'Romance' was at various points hilarious, but I accept that the French sense of humour can be elusive for foreigners; indeed, dozens of IMDb reviewers detected no comedy in Romance. By contrast, Sex Is Comedy raises plenty of laughs, mainly by using an actor's prop that goes back thousands of years to Plautus and the ancient Greeks. We wondered, leaving the theatre, whether Roxane's \"beard\" was a wig. A lovely performance from Anne Parillaud as Breillat wrestling with her own script, lo...</td>\n",
       "      <td>1</td>\n",
       "    </tr>\n",
       "    <tr>\n",
       "      <th>2</th>\n",
       "      <td>2</td>\n",
       "      <td>A very good movie about anti-semitism near the end of WWII. The scene that really speaks loudly of the ignorance of these people is the meeting at the church when the priest is giving his speech against the \"international money grubbers and communists\". It sounds amazingly like the speeches that Adolph Hitler used to force down his peoples' throats, yet none of the meeting attendees seem to make this comparison.</td>\n",
       "      <td>1</td>\n",
       "    </tr>\n",
       "    <tr>\n",
       "      <th>3</th>\n",
       "      <td>3</td>\n",
       "      <td>Interesting story and sympathetic treatment of racial discrimination, Son of the Gods is rather too long and contains some hammy acting, but on the whole remains a fascinating film.&lt;br /&gt;&lt;br /&gt;Story about a Chinese passing as White (Rchard Barthelmess) starts as Barthelmess leaves college after being insulted by a trio of brainless co-eds. He embarks on a world tour to discover himself and ends up as secretary to a British playwright (Claude King). In Monte Carlo he meets beautiful Alanna Wagner (Constance Bennett) and they fall in love. But when she discovers he is Chinese she goes berserk in a memorable scene.&lt;br /&gt;&lt;br /&gt;Plagued by guilt and love, Alanna goes into a mental spiral and makes a few attempts to contact Barthelmess. After his father dies he takes over the business (banking?) and dons Chinese garb as a symbol of his hatred of the White race that has spurned him. After a San Francisco detective tells him the truth about his birth, Barthelmess makes the decision to honor...</td>\n",
       "      <td>1</td>\n",
       "    </tr>\n",
       "    <tr>\n",
       "      <th>4</th>\n",
       "      <td>4</td>\n",
       "      <td>There are films that are not released in theaters but on video. This one should be allowed to age and disintegrate the way old nitrate film stock does. No story, inept violence, over acted, badly written and the sorry thing is that the star was not the only bad part in the film. And I did like and enjoyed some of Siegel's other movies.</td>\n",
       "      <td>0</td>\n",
       "    </tr>\n",
       "  </tbody>\n",
       "</table>\n",
       "</div>"
      ],
      "text/plain": [
       "   Id  \\\n",
       "0   0   \n",
       "1   1   \n",
       "2   2   \n",
       "3   3   \n",
       "4   4   \n",
       "\n",
       "                                                                                                                                                                                                                                                                                                                                                                                                                                                                                                                                                                                                                                                                                                                                                                                                                                                                                                                                                                                                                                      Text  \\\n",
       "0  This is probably the best movie from director Hector Babenco. It shows a Brazilian reality unknown by foreigners, which is the same reality that haunts all of the Latin American countries, poverty and a survival instinct. The most affected in this reality is the children usually left orphans, or abandoned by their poor parents have to make it in a \"dog eat dog\" society many times falling into the gap of delinquency, prostitution and crime. Very well acted and with a \"no frills\" approach, this movie will get to you, Great story plot, a must have movie on anybody's collection. The starring role went to Fernando Ramos da Silva, a young boy who fell into the crime wave, killed some years later during a robbery. I would suggest people to watch the movie \"Who killed Pixote?\" so you can have a more in depth idea of the lives of these characters. Some other Characters from the movie had a similar fate, some died and others are in jail. None the less this movie will last for a long time in ...   \n",
       "1  It's particularly hard for a director to capture film-making without getting precious, inbred, over-dramatic, or all three. Breillat ably demonstrates the instinctive, lizard-brain methods of a female auteur in extracting from two \"cattle\" (as Hitchcock called actors) a love-scene of searing intimacy. Her main battle is with her leading man (\"an actor is really a woman\" she opines), although, naturally, it is the leading lady who will steal the show. I disagree that this is Breillat's first comedy. 'Romance' was at various points hilarious, but I accept that the French sense of humour can be elusive for foreigners; indeed, dozens of IMDb reviewers detected no comedy in Romance. By contrast, Sex Is Comedy raises plenty of laughs, mainly by using an actor's prop that goes back thousands of years to Plautus and the ancient Greeks. We wondered, leaving the theatre, whether Roxane's \"beard\" was a wig. A lovely performance from Anne Parillaud as Breillat wrestling with her own script, lo...   \n",
       "2                                                                                                                                                                                                                                                                                                                                                                                                                                                                                                                                                                                                          A very good movie about anti-semitism near the end of WWII. The scene that really speaks loudly of the ignorance of these people is the meeting at the church when the priest is giving his speech against the \"international money grubbers and communists\". It sounds amazingly like the speeches that Adolph Hitler used to force down his peoples' throats, yet none of the meeting attendees seem to make this comparison.   \n",
       "3  Interesting story and sympathetic treatment of racial discrimination, Son of the Gods is rather too long and contains some hammy acting, but on the whole remains a fascinating film.<br /><br />Story about a Chinese passing as White (Rchard Barthelmess) starts as Barthelmess leaves college after being insulted by a trio of brainless co-eds. He embarks on a world tour to discover himself and ends up as secretary to a British playwright (Claude King). In Monte Carlo he meets beautiful Alanna Wagner (Constance Bennett) and they fall in love. But when she discovers he is Chinese she goes berserk in a memorable scene.<br /><br />Plagued by guilt and love, Alanna goes into a mental spiral and makes a few attempts to contact Barthelmess. After his father dies he takes over the business (banking?) and dons Chinese garb as a symbol of his hatred of the White race that has spurned him. After a San Francisco detective tells him the truth about his birth, Barthelmess makes the decision to honor...   \n",
       "4                                                                                                                                                                                                                                                                                                                                                                                                                                                                                                                                                                                                                                                                                        There are films that are not released in theaters but on video. This one should be allowed to age and disintegrate the way old nitrate film stock does. No story, inept violence, over acted, badly written and the sorry thing is that the star was not the only bad part in the film. And I did like and enjoyed some of Siegel's other movies.   \n",
       "\n",
       "   Sentiment  \n",
       "0          1  \n",
       "1          1  \n",
       "2          1  \n",
       "3          1  \n",
       "4          0  "
      ]
     },
     "execution_count": 34,
     "metadata": {},
     "output_type": "execute_result"
    }
   ],
   "source": [
    "# Model prediction on test dataset\n",
    "\n",
    "test_data[\"Sentiment\"] = 0\n",
    "\n",
    "# Tokenize the text and add special tokens\n",
    "test_tokens = tokenizer.batch_encode_plus(\n",
    "    test_data[\"Text\"].tolist(),\n",
    "    add_special_tokens=True,\n",
    "    max_length=MAX_LEN,\n",
    "    truncation=True,\n",
    "    padding=True,\n",
    "    return_attention_mask=True,\n",
    "    return_tensors='pt'\n",
    ")\n",
    "\n",
    "# Pad the input sequences to have equal lengths\n",
    "test_input_ids = pad_sequences(test_tokens['input_ids'], maxlen=MAX_LEN, dtype=\"long\", value=0, truncating=\"post\", padding=\"post\")\n",
    "test_attention_masks = pad_sequences(test_tokens['attention_mask'], maxlen=MAX_LEN, dtype=\"long\", value=0, truncating=\"post\", padding=\"post\")\n",
    "\n",
    "# Create PyTorch dataset\n",
    "test_dataset = torch.utils.data.TensorDataset(\n",
    "    torch.tensor(test_input_ids),\n",
    "    torch.tensor(test_attention_masks)\n",
    ")\n",
    "\n",
    "# Create PyTorch dataloader\n",
    "test_dataloader = DataLoader(\n",
    "    test_dataset,\n",
    "    sampler=SequentialSampler(test_dataset),\n",
    "    batch_size=BATCH_SIZE\n",
    ")\n",
    "\n",
    "# Set the model to evaluation mode\n",
    "bert_model.eval()\n",
    "\n",
    "# Lists to store predictions\n",
    "predictions = []\n",
    "\n",
    "# Deactivate gradient computations\n",
    "with torch.no_grad():\n",
    "    for batch in test_dataloader:\n",
    "        input_ids = batch[0].to(device)\n",
    "        attention_mask = batch[1].to(device)\n",
    "\n",
    "        # Forward pass\n",
    "        outputs = bert_model(input_ids, attention_mask=attention_mask)\n",
    "\n",
    "        # Get the predicted class\n",
    "        _, preds = torch.max(outputs[0], dim=1)\n",
    "\n",
    "        # Append predictions to the list\n",
    "        predictions.extend(preds.tolist())\n",
    "\n",
    "# Add the predicted labels to the test dataset\n",
    "test_data[\"Sentiment\"] = np.array(predictions)\n",
    "test_data.head()"
   ]
  },
  {
   "cell_type": "code",
   "execution_count": null,
   "metadata": {},
   "outputs": [],
   "source": [
    "# Save the results to a new CSV file\n",
    "bert_result = test_data[['Id', 'Sentiment']]\n",
    "bert_result.to_csv('Submission_BertModel.csv', index=False)"
   ]
  },
  {
   "cell_type": "markdown",
   "metadata": {},
   "source": [
    "# **TensorFlow Bert Model**"
   ]
  },
  {
   "cell_type": "code",
   "execution_count": 9,
   "metadata": {
    "execution": {
     "iopub.execute_input": "2023-04-05T04:45:14.740944Z",
     "iopub.status.busy": "2023-04-05T04:45:14.739926Z",
     "iopub.status.idle": "2023-04-05T04:45:14.755440Z",
     "shell.execute_reply": "2023-04-05T04:45:14.754438Z",
     "shell.execute_reply.started": "2023-04-05T04:45:14.740904Z"
    }
   },
   "outputs": [],
   "source": [
    "# Functions for constructing BERT Embeddings: input_ids, input_masks, input_segments and Inputs\n",
    "MAX_SEQ_LEN=500 # max sequence length\n",
    "\n",
    "def get_masks(tokens):\n",
    "    \"\"\"Masks: 1 for real tokens and 0 for paddings\"\"\"\n",
    "    return [1]*len(tokens) + [0] * (MAX_SEQ_LEN - len(tokens))\n",
    " \n",
    "def get_segments(tokens):\n",
    "    \"\"\"Segments: 0 for the first sequence, 1 for the second\"\"\"  \n",
    "    segments = []\n",
    "    current_segment_id = 0\n",
    "    for token in tokens:\n",
    "        segments.append(current_segment_id)\n",
    "        if token == \"[SEP]\":\n",
    "            current_segment_id = 1\n",
    "    return segments + [0] * (MAX_SEQ_LEN - len(tokens))\n",
    "\n",
    "def get_ids(tokens, tokenizer):\n",
    "    \"\"\"Token ids from Tokenizer vocab\"\"\"\n",
    "    token_ids = tokenizer.convert_tokens_to_ids(tokens,)\n",
    "    input_ids = token_ids + [0] * (MAX_SEQ_LEN - len(token_ids))\n",
    "    return input_ids\n",
    "\n",
    "def create_single_input(sentence, tokenizer, max_len):\n",
    "    \"\"\"Create an input from a sentence\"\"\"\n",
    "    stokens = tokenizer.tokenize(sentence)\n",
    "    stokens = stokens[:max_len]\n",
    "    stokens = [\"[CLS]\"] + stokens + [\"[SEP]\"]\n",
    " \n",
    "    ids = get_ids(stokens, tokenizer)\n",
    "    masks = get_masks(stokens)\n",
    "    segments = get_segments(stokens)\n",
    "\n",
    "    return ids, masks, segments\n",
    " \n",
    "def convert_sentences_to_features(sentences, tokenizer):\n",
    "    \"\"\"Convert sentences to features: input_ids, input_masks and input_segments\"\"\"\n",
    "    input_ids, input_masks, input_segments = [], [], []\n",
    " \n",
    "    for sentence in tqdm(sentences,position=0, leave=True):\n",
    "      ids,masks,segments=create_single_input(sentence,tokenizer,MAX_SEQ_LEN-2)\n",
    "      assert len(ids) == MAX_SEQ_LEN\n",
    "      assert len(masks) == MAX_SEQ_LEN\n",
    "      assert len(segments) == MAX_SEQ_LEN\n",
    "      input_ids.append(ids)\n",
    "      input_masks.append(masks)\n",
    "      input_segments.append(segments)\n",
    "\n",
    "    return [np.asarray(input_ids, dtype=np.int32), \n",
    "          np.asarray(input_masks, dtype=np.int32), \n",
    "          np.asarray(input_segments, dtype=np.int32)]\n",
    "\n",
    "def create_tonkenizer(bert_layer):\n",
    "    \"\"\"Instantiate Tokenizer with vocab\"\"\"\n",
    "    vocab_file=bert_layer.resolved_object.vocab_file.asset_path.numpy()\n",
    "    do_lower_case=bert_layer.resolved_object.do_lower_case.numpy() \n",
    "    tokenizer=bert.bert_tokenization.FullTokenizer(vocab_file,do_lower_case)\n",
    "    return tokenizer"
   ]
  },
  {
   "cell_type": "code",
   "execution_count": 10,
   "metadata": {
    "execution": {
     "iopub.execute_input": "2023-04-05T04:45:22.545755Z",
     "iopub.status.busy": "2023-04-05T04:45:22.545054Z",
     "iopub.status.idle": "2023-04-05T04:45:43.416323Z",
     "shell.execute_reply": "2023-04-05T04:45:43.415494Z",
     "shell.execute_reply.started": "2023-04-05T04:45:22.545714Z"
    }
   },
   "outputs": [
    {
     "name": "stdout",
     "output_type": "stream",
     "text": [
      "Model: \"model\"\n",
      "__________________________________________________________________________________________________\n",
      " Layer (type)                   Output Shape         Param #     Connected to                     \n",
      "==================================================================================================\n",
      " input_ids (InputLayer)         [(None, 500)]        0           []                               \n",
      "                                                                                                  \n",
      " input_masks (InputLayer)       [(None, 500)]        0           []                               \n",
      "                                                                                                  \n",
      " segment_ids (InputLayer)       [(None, 500)]        0           []                               \n",
      "                                                                                                  \n",
      " keras_layer (KerasLayer)       [(None, 768),        109482241   ['input_ids[0][0]',              \n",
      "                                 (None, 500, 768)]                'input_masks[0][0]',            \n",
      "                                                                  'segment_ids[0][0]']            \n",
      "                                                                                                  \n",
      " dense (Dense)                  (None, 768)          590592      ['keras_layer[0][0]']            \n",
      "                                                                                                  \n",
      " dropout (Dropout)              (None, 768)          0           ['dense[0][0]']                  \n",
      "                                                                                                  \n",
      " dense_1 (Dense)                (None, 2)            1538        ['dropout[0][0]']                \n",
      "                                                                                                  \n",
      "==================================================================================================\n",
      "Total params: 110,074,371\n",
      "Trainable params: 110,074,370\n",
      "Non-trainable params: 1\n",
      "__________________________________________________________________________________________________\n"
     ]
    }
   ],
   "source": [
    "def nlp_model(callable_object):\n",
    "    # Load the pre-trained BERT base model\n",
    "    bert_layer = hub.KerasLayer(handle=callable_object, trainable=True)  \n",
    "   \n",
    "    # BERT layer three inputs: ids, masks and segments\n",
    "    input_ids = Input(shape=(MAX_SEQ_LEN,), dtype=tf.int32, name=\"input_ids\")           \n",
    "    input_masks = Input(shape=(MAX_SEQ_LEN,), dtype=tf.int32, name=\"input_masks\")       \n",
    "    input_segments = Input(shape=(MAX_SEQ_LEN,), dtype=tf.int32, name=\"segment_ids\")\n",
    "    \n",
    "    inputs = [input_ids, input_masks, input_segments] # BERT inputs\n",
    "    pooled_output, sequence_output = bert_layer(inputs) # BERT outputs\n",
    "    \n",
    "    # Add a hidden layer\n",
    "    x = Dense(units=768, activation='relu')(pooled_output)\n",
    "    x = Dropout(0.1)(x)\n",
    " \n",
    "    # Add output layer\n",
    "    outputs = Dense(2, activation=\"softmax\")(x)\n",
    "\n",
    "    # Construct a new model\n",
    "    model = Model(inputs=inputs, outputs=outputs)\n",
    "    return model\n",
    "\n",
    "model = nlp_model(\"https://tfhub.dev/tensorflow/bert_en_uncased_L-12_H-768_A-12/1\")\n",
    "model.summary()"
   ]
  },
  {
   "cell_type": "code",
   "execution_count": 11,
   "metadata": {
    "execution": {
     "iopub.execute_input": "2023-04-05T04:46:57.515786Z",
     "iopub.status.busy": "2023-04-05T04:46:57.515151Z",
     "iopub.status.idle": "2023-04-05T04:49:01.680984Z",
     "shell.execute_reply": "2023-04-05T04:49:01.679658Z",
     "shell.execute_reply.started": "2023-04-05T04:46:57.515745Z"
    }
   },
   "outputs": [
    {
     "name": "stderr",
     "output_type": "stream",
     "text": [
      "100%|██████████| 20000/20000 [01:37<00:00, 204.54it/s]\n",
      "100%|██████████| 4995/4995 [00:24<00:00, 205.24it/s]\n"
     ]
    }
   ],
   "source": [
    "# Create examples for training and testing\n",
    "train_df = training_data.sample(frac=1) # Shuffle the dataset\n",
    "tokenizer = create_tonkenizer(model.layers[3])\n",
    "\n",
    "X_train = convert_sentences_to_features(train_df['Text'][:20000], tokenizer)\n",
    "X_val = convert_sentences_to_features(train_df['Text'][20000:], tokenizer)\n",
    "\n",
    "one_hot_encoded = to_categorical(train_df['Sentiment'].values)\n",
    "y_train = one_hot_encoded[:20000]\n",
    "y_val =  one_hot_encoded[20000:]"
   ]
  },
  {
   "cell_type": "code",
   "execution_count": 12,
   "metadata": {
    "execution": {
     "iopub.execute_input": "2023-04-05T04:52:15.933272Z",
     "iopub.status.busy": "2023-04-05T04:52:15.932665Z",
     "iopub.status.idle": "2023-04-05T05:34:20.120673Z",
     "shell.execute_reply": "2023-04-05T05:34:20.119136Z",
     "shell.execute_reply.started": "2023-04-05T04:52:15.933225Z"
    }
   },
   "outputs": [
    {
     "name": "stdout",
     "output_type": "stream",
     "text": [
      "2500/2500 [==============================] - 2520s 989ms/step - loss: 0.2510 - accuracy: 0.8960 - val_loss: 0.1818 - val_accuracy: 0.9305\n"
     ]
    }
   ],
   "source": [
    "# Train the model\n",
    "BATCH_SIZE = 8\n",
    "EPOCHS = 1\n",
    "\n",
    "# Use Adam optimizer to minimize the categorical_crossentropy loss\n",
    "opt = Adam(learning_rate=2e-5)\n",
    "model.compile(optimizer=opt, \n",
    "              loss='categorical_crossentropy', \n",
    "              metrics=['accuracy'])\n",
    "\n",
    "# Fit the data to the model\n",
    "history = model.fit(X_train, y_train,\n",
    "                    validation_data=(X_val, y_val),\n",
    "                    epochs=EPOCHS,\n",
    "                    batch_size=BATCH_SIZE,\n",
    "                    verbose = 1)\n",
    "\n",
    "# Save the trained model\n",
    "model.save('nlp_model.h5')"
   ]
  },
  {
   "cell_type": "code",
   "execution_count": 13,
   "metadata": {
    "execution": {
     "iopub.execute_input": "2023-04-05T05:36:57.607604Z",
     "iopub.status.busy": "2023-04-05T05:36:57.607194Z",
     "iopub.status.idle": "2023-04-05T05:37:06.865535Z",
     "shell.execute_reply": "2023-04-05T05:37:06.864328Z",
     "shell.execute_reply.started": "2023-04-05T05:36:57.607567Z"
    }
   },
   "outputs": [],
   "source": [
    "# Load the pretrained nlp_model\n",
    "from tensorflow.keras.models import load_model\n",
    "new_model = load_model('nlp_model.h5',custom_objects={'KerasLayer':hub.KerasLayer})"
   ]
  },
  {
   "cell_type": "code",
   "execution_count": 21,
   "metadata": {
    "execution": {
     "iopub.execute_input": "2023-04-05T07:22:47.597575Z",
     "iopub.status.busy": "2023-04-05T07:22:47.596530Z",
     "iopub.status.idle": "2023-04-05T07:27:09.576883Z",
     "shell.execute_reply": "2023-04-05T07:27:09.575581Z",
     "shell.execute_reply.started": "2023-04-05T07:22:47.597532Z"
    }
   },
   "outputs": [
    {
     "name": "stdout",
     "output_type": "stream",
     "text": [
      "157/157 [==============================] - 204s 1s/step\n"
     ]
    }
   ],
   "source": [
    "# Prediction on val dataset and evaluation\n",
    "pred_val = np.argmax(new_model.predict(X_val), axis=1)"
   ]
  },
  {
   "cell_type": "code",
   "execution_count": 15,
   "metadata": {
    "execution": {
     "iopub.execute_input": "2023-04-05T05:44:24.891220Z",
     "iopub.status.busy": "2023-04-05T05:44:24.890262Z",
     "iopub.status.idle": "2023-04-05T05:44:24.911722Z",
     "shell.execute_reply": "2023-04-05T05:44:24.910423Z",
     "shell.execute_reply.started": "2023-04-05T05:44:24.891176Z"
    }
   },
   "outputs": [
    {
     "name": "stdout",
     "output_type": "stream",
     "text": [
      "              precision    recall  f1-score   support\n",
      "\n",
      "           0       0.91      0.96      0.93      2521\n",
      "           1       0.96      0.90      0.93      2474\n",
      "\n",
      "    accuracy                           0.93      4995\n",
      "   macro avg       0.93      0.93      0.93      4995\n",
      "weighted avg       0.93      0.93      0.93      4995\n",
      "\n"
     ]
    }
   ],
   "source": [
    "from sklearn.metrics import accuracy_score , classification_report , confusion_matrix\n",
    "print(classification_report(np.argmax(y_val,axis=1), pred_val))"
   ]
  },
  {
   "cell_type": "code",
   "execution_count": 16,
   "metadata": {
    "execution": {
     "iopub.execute_input": "2023-04-05T05:45:02.114570Z",
     "iopub.status.busy": "2023-04-05T05:45:02.113503Z",
     "iopub.status.idle": "2023-04-05T06:04:37.273212Z",
     "shell.execute_reply": "2023-04-05T06:04:37.272038Z",
     "shell.execute_reply.started": "2023-04-05T05:45:02.114511Z"
    }
   },
   "outputs": [
    {
     "name": "stderr",
     "output_type": "stream",
     "text": [
      "100%|██████████| 25865/25865 [01:59<00:00, 216.12it/s]\n"
     ]
    },
    {
     "name": "stdout",
     "output_type": "stream",
     "text": [
      "809/809 [==============================] - 1052s 1s/step\n"
     ]
    },
    {
     "data": {
      "text/html": [
       "<div>\n",
       "<style scoped>\n",
       "    .dataframe tbody tr th:only-of-type {\n",
       "        vertical-align: middle;\n",
       "    }\n",
       "\n",
       "    .dataframe tbody tr th {\n",
       "        vertical-align: top;\n",
       "    }\n",
       "\n",
       "    .dataframe thead th {\n",
       "        text-align: right;\n",
       "    }\n",
       "</style>\n",
       "<table border=\"1\" class=\"dataframe\">\n",
       "  <thead>\n",
       "    <tr style=\"text-align: right;\">\n",
       "      <th></th>\n",
       "      <th>Id</th>\n",
       "      <th>Text</th>\n",
       "      <th>Sentiment</th>\n",
       "    </tr>\n",
       "  </thead>\n",
       "  <tbody>\n",
       "    <tr>\n",
       "      <th>0</th>\n",
       "      <td>0</td>\n",
       "      <td>This is probably the best movie from director Hector Babenco. It shows a Brazilian reality unknown by foreigners, which is the same reality that haunts all of the Latin American countries, poverty and a survival instinct. The most affected in this reality is the children usually left orphans, or abandoned by their poor parents have to make it in a \"dog eat dog\" society many times falling into the gap of delinquency, prostitution and crime. Very well acted and with a \"no frills\" approach, this movie will get to you, Great story plot, a must have movie on anybody's collection. The starring role went to Fernando Ramos da Silva, a young boy who fell into the crime wave, killed some years later during a robbery. I would suggest people to watch the movie \"Who killed Pixote?\" so you can have a more in depth idea of the lives of these characters. Some other Characters from the movie had a similar fate, some died and others are in jail. None the less this movie will last for a long time in ...</td>\n",
       "      <td>1</td>\n",
       "    </tr>\n",
       "    <tr>\n",
       "      <th>1</th>\n",
       "      <td>1</td>\n",
       "      <td>It's particularly hard for a director to capture film-making without getting precious, inbred, over-dramatic, or all three. Breillat ably demonstrates the instinctive, lizard-brain methods of a female auteur in extracting from two \"cattle\" (as Hitchcock called actors) a love-scene of searing intimacy. Her main battle is with her leading man (\"an actor is really a woman\" she opines), although, naturally, it is the leading lady who will steal the show. I disagree that this is Breillat's first comedy. 'Romance' was at various points hilarious, but I accept that the French sense of humour can be elusive for foreigners; indeed, dozens of IMDb reviewers detected no comedy in Romance. By contrast, Sex Is Comedy raises plenty of laughs, mainly by using an actor's prop that goes back thousands of years to Plautus and the ancient Greeks. We wondered, leaving the theatre, whether Roxane's \"beard\" was a wig. A lovely performance from Anne Parillaud as Breillat wrestling with her own script, lo...</td>\n",
       "      <td>1</td>\n",
       "    </tr>\n",
       "    <tr>\n",
       "      <th>2</th>\n",
       "      <td>2</td>\n",
       "      <td>A very good movie about anti-semitism near the end of WWII. The scene that really speaks loudly of the ignorance of these people is the meeting at the church when the priest is giving his speech against the \"international money grubbers and communists\". It sounds amazingly like the speeches that Adolph Hitler used to force down his peoples' throats, yet none of the meeting attendees seem to make this comparison.</td>\n",
       "      <td>1</td>\n",
       "    </tr>\n",
       "    <tr>\n",
       "      <th>3</th>\n",
       "      <td>3</td>\n",
       "      <td>Interesting story and sympathetic treatment of racial discrimination, Son of the Gods is rather too long and contains some hammy acting, but on the whole remains a fascinating film.&lt;br /&gt;&lt;br /&gt;Story about a Chinese passing as White (Rchard Barthelmess) starts as Barthelmess leaves college after being insulted by a trio of brainless co-eds. He embarks on a world tour to discover himself and ends up as secretary to a British playwright (Claude King). In Monte Carlo he meets beautiful Alanna Wagner (Constance Bennett) and they fall in love. But when she discovers he is Chinese she goes berserk in a memorable scene.&lt;br /&gt;&lt;br /&gt;Plagued by guilt and love, Alanna goes into a mental spiral and makes a few attempts to contact Barthelmess. After his father dies he takes over the business (banking?) and dons Chinese garb as a symbol of his hatred of the White race that has spurned him. After a San Francisco detective tells him the truth about his birth, Barthelmess makes the decision to honor...</td>\n",
       "      <td>1</td>\n",
       "    </tr>\n",
       "    <tr>\n",
       "      <th>4</th>\n",
       "      <td>4</td>\n",
       "      <td>There are films that are not released in theaters but on video. This one should be allowed to age and disintegrate the way old nitrate film stock does. No story, inept violence, over acted, badly written and the sorry thing is that the star was not the only bad part in the film. And I did like and enjoyed some of Siegel's other movies.</td>\n",
       "      <td>0</td>\n",
       "    </tr>\n",
       "  </tbody>\n",
       "</table>\n",
       "</div>"
      ],
      "text/plain": [
       "   Id  \\\n",
       "0   0   \n",
       "1   1   \n",
       "2   2   \n",
       "3   3   \n",
       "4   4   \n",
       "\n",
       "                                                                                                                                                                                                                                                                                                                                                                                                                                                                                                                                                                                                                                                                                                                                                                                                                                                                                                                                                                                                                                      Text  \\\n",
       "0  This is probably the best movie from director Hector Babenco. It shows a Brazilian reality unknown by foreigners, which is the same reality that haunts all of the Latin American countries, poverty and a survival instinct. The most affected in this reality is the children usually left orphans, or abandoned by their poor parents have to make it in a \"dog eat dog\" society many times falling into the gap of delinquency, prostitution and crime. Very well acted and with a \"no frills\" approach, this movie will get to you, Great story plot, a must have movie on anybody's collection. The starring role went to Fernando Ramos da Silva, a young boy who fell into the crime wave, killed some years later during a robbery. I would suggest people to watch the movie \"Who killed Pixote?\" so you can have a more in depth idea of the lives of these characters. Some other Characters from the movie had a similar fate, some died and others are in jail. None the less this movie will last for a long time in ...   \n",
       "1  It's particularly hard for a director to capture film-making without getting precious, inbred, over-dramatic, or all three. Breillat ably demonstrates the instinctive, lizard-brain methods of a female auteur in extracting from two \"cattle\" (as Hitchcock called actors) a love-scene of searing intimacy. Her main battle is with her leading man (\"an actor is really a woman\" she opines), although, naturally, it is the leading lady who will steal the show. I disagree that this is Breillat's first comedy. 'Romance' was at various points hilarious, but I accept that the French sense of humour can be elusive for foreigners; indeed, dozens of IMDb reviewers detected no comedy in Romance. By contrast, Sex Is Comedy raises plenty of laughs, mainly by using an actor's prop that goes back thousands of years to Plautus and the ancient Greeks. We wondered, leaving the theatre, whether Roxane's \"beard\" was a wig. A lovely performance from Anne Parillaud as Breillat wrestling with her own script, lo...   \n",
       "2                                                                                                                                                                                                                                                                                                                                                                                                                                                                                                                                                                                                          A very good movie about anti-semitism near the end of WWII. The scene that really speaks loudly of the ignorance of these people is the meeting at the church when the priest is giving his speech against the \"international money grubbers and communists\". It sounds amazingly like the speeches that Adolph Hitler used to force down his peoples' throats, yet none of the meeting attendees seem to make this comparison.   \n",
       "3  Interesting story and sympathetic treatment of racial discrimination, Son of the Gods is rather too long and contains some hammy acting, but on the whole remains a fascinating film.<br /><br />Story about a Chinese passing as White (Rchard Barthelmess) starts as Barthelmess leaves college after being insulted by a trio of brainless co-eds. He embarks on a world tour to discover himself and ends up as secretary to a British playwright (Claude King). In Monte Carlo he meets beautiful Alanna Wagner (Constance Bennett) and they fall in love. But when she discovers he is Chinese she goes berserk in a memorable scene.<br /><br />Plagued by guilt and love, Alanna goes into a mental spiral and makes a few attempts to contact Barthelmess. After his father dies he takes over the business (banking?) and dons Chinese garb as a symbol of his hatred of the White race that has spurned him. After a San Francisco detective tells him the truth about his birth, Barthelmess makes the decision to honor...   \n",
       "4                                                                                                                                                                                                                                                                                                                                                                                                                                                                                                                                                                                                                                                                                        There are films that are not released in theaters but on video. This one should be allowed to age and disintegrate the way old nitrate film stock does. No story, inept violence, over acted, badly written and the sorry thing is that the star was not the only bad part in the film. And I did like and enjoyed some of Siegel's other movies.   \n",
       "\n",
       "   Sentiment  \n",
       "0          1  \n",
       "1          1  \n",
       "2          1  \n",
       "3          1  \n",
       "4          0  "
      ]
     },
     "execution_count": 16,
     "metadata": {},
     "output_type": "execute_result"
    }
   ],
   "source": [
    "# Predict on test dataset\n",
    "\n",
    "test_data[\"Sentiment\"] = 0\n",
    "X_test = convert_sentences_to_features(test_data['Text'], tokenizer)\n",
    "test_pred = np.argmax(new_model.predict(X_test), axis=1)\n",
    "\n",
    "test_data[\"Sentiment\"] = test_pred\n",
    "test_data.head()"
   ]
  },
  {
   "cell_type": "code",
   "execution_count": null,
   "metadata": {},
   "outputs": [],
   "source": [
    "bertTensor_result = test_data[['Id', 'Sentiment']]\n",
    "bertTensor_result.to_csv('Submission_TensorFlow2_BertModel.csv', index=False)"
   ]
  }
 ],
 "metadata": {
  "kernelspec": {
   "display_name": "Python 3 (ipykernel)",
   "language": "python",
   "name": "python3"
  },
  "language_info": {
   "codemirror_mode": {
    "name": "ipython",
    "version": 3
   },
   "file_extension": ".py",
   "mimetype": "text/x-python",
   "name": "python",
   "nbconvert_exporter": "python",
   "pygments_lexer": "ipython3",
   "version": "3.10.5"
  }
 },
 "nbformat": 4,
 "nbformat_minor": 4
}
